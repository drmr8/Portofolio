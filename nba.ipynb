{
  "nbformat": 4,
  "nbformat_minor": 0,
  "metadata": {
    "colab": {
      "provenance": [],
      "authorship_tag": "ABX9TyNFdNKQ9xGti1E0UGuIK2RJ"
    },
    "kernelspec": {
      "name": "python3",
      "display_name": "Python 3"
    },
    "language_info": {
      "name": "python"
    }
  },
  "cells": [
    {
      "cell_type": "code",
      "execution_count": null,
      "metadata": {
        "id": "VEjr7-vhVesE"
      },
      "outputs": [],
      "source": [
        "import pandas as pd\n",
        "\n",
        "nba = pd.read_csv('NBA_Player.csv')"
      ]
    },
    {
      "cell_type": "code",
      "source": [
        "nba"
      ],
      "metadata": {
        "colab": {
          "base_uri": "https://localhost:8080/",
          "height": 423
        },
        "id": "dkZcU3nPfG6N",
        "outputId": "8c4022e2-67b7-4f24-a886-2721511942d3"
      },
      "execution_count": null,
      "outputs": [
        {
          "output_type": "execute_result",
          "data": {
            "text/plain": [
              "          Id        Date       Team            Acquired    Relinquished  \\\n",
              "0          0  1951-12-25    Bullets                 NaN   Don Barksdale   \n",
              "1          1  1952-12-26     Knicks                 NaN   Max Zaslofsky   \n",
              "2          2  1956-12-29     Knicks                 NaN   Jim Baechtold   \n",
              "3          3  1959-01-16     Lakers                 NaN    Elgin Baylor   \n",
              "4          4  1961-11-26     Lakers                 NaN    Elgin Baylor   \n",
              "...      ...         ...        ...                 ...             ...   \n",
              "37662  37662  2023-04-16   Clippers       Marcus Morris             NaN   \n",
              "37663  37663  2023-04-16  Grizzlies       Dillon Brooks             NaN   \n",
              "37664  37664  2023-04-16  Grizzlies           Ja Morant             NaN   \n",
              "37665  37665  2023-04-16  Grizzlies   Jaren Jackson Jr.             NaN   \n",
              "37666  37666  2023-04-16  Grizzlies        Santi Aldama             NaN   \n",
              "\n",
              "                                                   Notes  \n",
              "0                                           placed on IL  \n",
              "1                     placed on IL with torn side muscle  \n",
              "2                                placed on inactive list  \n",
              "3      player refused to play after being denied a ro...  \n",
              "4                      player reported for military duty  \n",
              "...                                                  ...  \n",
              "37662                                  activated from IL  \n",
              "37663                                  activated from IL  \n",
              "37664                                  activated from IL  \n",
              "37665                                  activated from IL  \n",
              "37666                                  activated from IL  \n",
              "\n",
              "[37667 rows x 6 columns]"
            ],
            "text/html": [
              "\n",
              "  <div id=\"df-b85a93d9-1c3f-4610-a707-56bd78b25a3c\">\n",
              "    <div class=\"colab-df-container\">\n",
              "      <div>\n",
              "<style scoped>\n",
              "    .dataframe tbody tr th:only-of-type {\n",
              "        vertical-align: middle;\n",
              "    }\n",
              "\n",
              "    .dataframe tbody tr th {\n",
              "        vertical-align: top;\n",
              "    }\n",
              "\n",
              "    .dataframe thead th {\n",
              "        text-align: right;\n",
              "    }\n",
              "</style>\n",
              "<table border=\"1\" class=\"dataframe\">\n",
              "  <thead>\n",
              "    <tr style=\"text-align: right;\">\n",
              "      <th></th>\n",
              "      <th>Id</th>\n",
              "      <th>Date</th>\n",
              "      <th>Team</th>\n",
              "      <th>Acquired</th>\n",
              "      <th>Relinquished</th>\n",
              "      <th>Notes</th>\n",
              "    </tr>\n",
              "  </thead>\n",
              "  <tbody>\n",
              "    <tr>\n",
              "      <th>0</th>\n",
              "      <td>0</td>\n",
              "      <td>1951-12-25</td>\n",
              "      <td>Bullets</td>\n",
              "      <td>NaN</td>\n",
              "      <td>Don Barksdale</td>\n",
              "      <td>placed on IL</td>\n",
              "    </tr>\n",
              "    <tr>\n",
              "      <th>1</th>\n",
              "      <td>1</td>\n",
              "      <td>1952-12-26</td>\n",
              "      <td>Knicks</td>\n",
              "      <td>NaN</td>\n",
              "      <td>Max Zaslofsky</td>\n",
              "      <td>placed on IL with torn side muscle</td>\n",
              "    </tr>\n",
              "    <tr>\n",
              "      <th>2</th>\n",
              "      <td>2</td>\n",
              "      <td>1956-12-29</td>\n",
              "      <td>Knicks</td>\n",
              "      <td>NaN</td>\n",
              "      <td>Jim Baechtold</td>\n",
              "      <td>placed on inactive list</td>\n",
              "    </tr>\n",
              "    <tr>\n",
              "      <th>3</th>\n",
              "      <td>3</td>\n",
              "      <td>1959-01-16</td>\n",
              "      <td>Lakers</td>\n",
              "      <td>NaN</td>\n",
              "      <td>Elgin Baylor</td>\n",
              "      <td>player refused to play after being denied a ro...</td>\n",
              "    </tr>\n",
              "    <tr>\n",
              "      <th>4</th>\n",
              "      <td>4</td>\n",
              "      <td>1961-11-26</td>\n",
              "      <td>Lakers</td>\n",
              "      <td>NaN</td>\n",
              "      <td>Elgin Baylor</td>\n",
              "      <td>player reported for military duty</td>\n",
              "    </tr>\n",
              "    <tr>\n",
              "      <th>...</th>\n",
              "      <td>...</td>\n",
              "      <td>...</td>\n",
              "      <td>...</td>\n",
              "      <td>...</td>\n",
              "      <td>...</td>\n",
              "      <td>...</td>\n",
              "    </tr>\n",
              "    <tr>\n",
              "      <th>37662</th>\n",
              "      <td>37662</td>\n",
              "      <td>2023-04-16</td>\n",
              "      <td>Clippers</td>\n",
              "      <td>Marcus Morris</td>\n",
              "      <td>NaN</td>\n",
              "      <td>activated from IL</td>\n",
              "    </tr>\n",
              "    <tr>\n",
              "      <th>37663</th>\n",
              "      <td>37663</td>\n",
              "      <td>2023-04-16</td>\n",
              "      <td>Grizzlies</td>\n",
              "      <td>Dillon Brooks</td>\n",
              "      <td>NaN</td>\n",
              "      <td>activated from IL</td>\n",
              "    </tr>\n",
              "    <tr>\n",
              "      <th>37664</th>\n",
              "      <td>37664</td>\n",
              "      <td>2023-04-16</td>\n",
              "      <td>Grizzlies</td>\n",
              "      <td>Ja Morant</td>\n",
              "      <td>NaN</td>\n",
              "      <td>activated from IL</td>\n",
              "    </tr>\n",
              "    <tr>\n",
              "      <th>37665</th>\n",
              "      <td>37665</td>\n",
              "      <td>2023-04-16</td>\n",
              "      <td>Grizzlies</td>\n",
              "      <td>Jaren Jackson Jr.</td>\n",
              "      <td>NaN</td>\n",
              "      <td>activated from IL</td>\n",
              "    </tr>\n",
              "    <tr>\n",
              "      <th>37666</th>\n",
              "      <td>37666</td>\n",
              "      <td>2023-04-16</td>\n",
              "      <td>Grizzlies</td>\n",
              "      <td>Santi Aldama</td>\n",
              "      <td>NaN</td>\n",
              "      <td>activated from IL</td>\n",
              "    </tr>\n",
              "  </tbody>\n",
              "</table>\n",
              "<p>37667 rows × 6 columns</p>\n",
              "</div>\n",
              "      <button class=\"colab-df-convert\" onclick=\"convertToInteractive('df-b85a93d9-1c3f-4610-a707-56bd78b25a3c')\"\n",
              "              title=\"Convert this dataframe to an interactive table.\"\n",
              "              style=\"display:none;\">\n",
              "        \n",
              "  <svg xmlns=\"http://www.w3.org/2000/svg\" height=\"24px\"viewBox=\"0 0 24 24\"\n",
              "       width=\"24px\">\n",
              "    <path d=\"M0 0h24v24H0V0z\" fill=\"none\"/>\n",
              "    <path d=\"M18.56 5.44l.94 2.06.94-2.06 2.06-.94-2.06-.94-.94-2.06-.94 2.06-2.06.94zm-11 1L8.5 8.5l.94-2.06 2.06-.94-2.06-.94L8.5 2.5l-.94 2.06-2.06.94zm10 10l.94 2.06.94-2.06 2.06-.94-2.06-.94-.94-2.06-.94 2.06-2.06.94z\"/><path d=\"M17.41 7.96l-1.37-1.37c-.4-.4-.92-.59-1.43-.59-.52 0-1.04.2-1.43.59L10.3 9.45l-7.72 7.72c-.78.78-.78 2.05 0 2.83L4 21.41c.39.39.9.59 1.41.59.51 0 1.02-.2 1.41-.59l7.78-7.78 2.81-2.81c.8-.78.8-2.07 0-2.86zM5.41 20L4 18.59l7.72-7.72 1.47 1.35L5.41 20z\"/>\n",
              "  </svg>\n",
              "      </button>\n",
              "      \n",
              "  <style>\n",
              "    .colab-df-container {\n",
              "      display:flex;\n",
              "      flex-wrap:wrap;\n",
              "      gap: 12px;\n",
              "    }\n",
              "\n",
              "    .colab-df-convert {\n",
              "      background-color: #E8F0FE;\n",
              "      border: none;\n",
              "      border-radius: 50%;\n",
              "      cursor: pointer;\n",
              "      display: none;\n",
              "      fill: #1967D2;\n",
              "      height: 32px;\n",
              "      padding: 0 0 0 0;\n",
              "      width: 32px;\n",
              "    }\n",
              "\n",
              "    .colab-df-convert:hover {\n",
              "      background-color: #E2EBFA;\n",
              "      box-shadow: 0px 1px 2px rgba(60, 64, 67, 0.3), 0px 1px 3px 1px rgba(60, 64, 67, 0.15);\n",
              "      fill: #174EA6;\n",
              "    }\n",
              "\n",
              "    [theme=dark] .colab-df-convert {\n",
              "      background-color: #3B4455;\n",
              "      fill: #D2E3FC;\n",
              "    }\n",
              "\n",
              "    [theme=dark] .colab-df-convert:hover {\n",
              "      background-color: #434B5C;\n",
              "      box-shadow: 0px 1px 3px 1px rgba(0, 0, 0, 0.15);\n",
              "      filter: drop-shadow(0px 1px 2px rgba(0, 0, 0, 0.3));\n",
              "      fill: #FFFFFF;\n",
              "    }\n",
              "  </style>\n",
              "\n",
              "      <script>\n",
              "        const buttonEl =\n",
              "          document.querySelector('#df-b85a93d9-1c3f-4610-a707-56bd78b25a3c button.colab-df-convert');\n",
              "        buttonEl.style.display =\n",
              "          google.colab.kernel.accessAllowed ? 'block' : 'none';\n",
              "\n",
              "        async function convertToInteractive(key) {\n",
              "          const element = document.querySelector('#df-b85a93d9-1c3f-4610-a707-56bd78b25a3c');\n",
              "          const dataTable =\n",
              "            await google.colab.kernel.invokeFunction('convertToInteractive',\n",
              "                                                     [key], {});\n",
              "          if (!dataTable) return;\n",
              "\n",
              "          const docLinkHtml = 'Like what you see? Visit the ' +\n",
              "            '<a target=\"_blank\" href=https://colab.research.google.com/notebooks/data_table.ipynb>data table notebook</a>'\n",
              "            + ' to learn more about interactive tables.';\n",
              "          element.innerHTML = '';\n",
              "          dataTable['output_type'] = 'display_data';\n",
              "          await google.colab.output.renderOutput(dataTable, element);\n",
              "          const docLink = document.createElement('div');\n",
              "          docLink.innerHTML = docLinkHtml;\n",
              "          element.appendChild(docLink);\n",
              "        }\n",
              "      </script>\n",
              "    </div>\n",
              "  </div>\n",
              "  "
            ]
          },
          "metadata": {},
          "execution_count": 27
        }
      ]
    },
    {
      "cell_type": "code",
      "source": [
        "print(nba.head())\n",
        "print(nba.info())"
      ],
      "metadata": {
        "colab": {
          "base_uri": "https://localhost:8080/"
        },
        "id": "SuM7RjL0fs0G",
        "outputId": "03f70d64-6b94-4c18-a950-a62d2c848140"
      },
      "execution_count": null,
      "outputs": [
        {
          "output_type": "stream",
          "name": "stdout",
          "text": [
            "  Id        Date     Team Acquired    Relinquished  \\\n",
            "0  0  1951-12-25  Bullets      NaN   Don Barksdale   \n",
            "1  1  1952-12-26   Knicks      NaN   Max Zaslofsky   \n",
            "2  2  1956-12-29   Knicks      NaN   Jim Baechtold   \n",
            "3  3  1959-01-16   Lakers      NaN    Elgin Baylor   \n",
            "4  4  1961-11-26   Lakers      NaN    Elgin Baylor   \n",
            "\n",
            "                                               Notes  \n",
            "0                                       placed on IL  \n",
            "1                 placed on IL with torn side muscle  \n",
            "2                            placed on inactive list  \n",
            "3  player refused to play after being denied a ro...  \n",
            "4                  player reported for military duty  \n",
            "<class 'pandas.core.frame.DataFrame'>\n",
            "RangeIndex: 37667 entries, 0 to 37666\n",
            "Data columns (total 6 columns):\n",
            " #   Column        Non-Null Count  Dtype \n",
            "---  ------        --------------  ----- \n",
            " 0   Id            37667 non-null  object\n",
            " 1   Date          37608 non-null  object\n",
            " 2   Team          37608 non-null  object\n",
            " 3   Acquired      17595 non-null  object\n",
            " 4   Relinquished  20013 non-null  object\n",
            " 5   Notes         37608 non-null  object\n",
            "dtypes: object(6)\n",
            "memory usage: 1.7+ MB\n",
            "None\n"
          ]
        }
      ]
    },
    {
      "cell_type": "code",
      "source": [
        "print(nba.head())"
      ],
      "metadata": {
        "colab": {
          "base_uri": "https://localhost:8080/"
        },
        "id": "QruJTZIGnBwd",
        "outputId": "9af18621-60ee-40e4-e878-02f3878f3f9c"
      },
      "execution_count": null,
      "outputs": [
        {
          "output_type": "stream",
          "name": "stdout",
          "text": [
            "  Id       Date     Team Acquired    Relinquished  \\\n",
            "0  0 1951-12-25  Bullets      NaN   Don Barksdale   \n",
            "1  1 1952-12-26   Knicks      NaN   Max Zaslofsky   \n",
            "2  2 1956-12-29   Knicks      NaN   Jim Baechtold   \n",
            "3  3 1959-01-16   Lakers      NaN    Elgin Baylor   \n",
            "4  4 1961-11-26   Lakers      NaN    Elgin Baylor   \n",
            "\n",
            "                                               Notes  \n",
            "0                                       placed on IL  \n",
            "1                 placed on IL with torn side muscle  \n",
            "2                            placed on inactive list  \n",
            "3  player refused to play after being denied a ro...  \n",
            "4                  player reported for military duty  \n"
          ]
        }
      ]
    },
    {
      "cell_type": "code",
      "source": [
        "total_injuries = len(nba)\n",
        "print(f\"Total cedera: {total_injuries}\")"
      ],
      "metadata": {
        "colab": {
          "base_uri": "https://localhost:8080/"
        },
        "id": "hVQc9s0afUxG",
        "outputId": "a8d8968d-4ece-4a01-eaee-aa48f2d5b2f2"
      },
      "execution_count": null,
      "outputs": [
        {
          "output_type": "stream",
          "name": "stdout",
          "text": [
            "Total cedera: 37667\n"
          ]
        }
      ]
    },
    {
      "cell_type": "code",
      "source": [
        "team_injuries = nba['Team'].value_counts()\n",
        "print(\"Jumlah cedera per tim:\")\n",
        "print(team_injuries)"
      ],
      "metadata": {
        "colab": {
          "base_uri": "https://localhost:8080/"
        },
        "id": "KkGpHnXPnd6i",
        "outputId": "cce2b0ac-d4dd-4163-8764-c7f5bd4c0ce1"
      },
      "execution_count": null,
      "outputs": [
        {
          "output_type": "stream",
          "name": "stdout",
          "text": [
            "Jumlah cedera per tim:\n",
            "Spurs             1620\n",
            "Celtics           1559\n",
            "Mavericks         1530\n",
            "Heat              1521\n",
            "Raptors           1451\n",
            "Cavaliers         1410\n",
            "Pacers            1406\n",
            "Nets              1354\n",
            "Warriors          1345\n",
            "Hawks             1336\n",
            "Bulls             1319\n",
            "Rockets           1316\n",
            "Bucks             1289\n",
            "Knicks            1254\n",
            "Grizzlies         1237\n",
            "Nuggets           1217\n",
            "Magic             1195\n",
            "Clippers          1190\n",
            "Pistons           1175\n",
            "76ers             1161\n",
            "Blazers           1113\n",
            "Lakers            1105\n",
            "Jazz              1101\n",
            "Kings             1063\n",
            "Wizards           1049\n",
            "Timberwolves      1035\n",
            "Hornets           1000\n",
            "Suns               964\n",
            "Thunder            839\n",
            "Bobcats            568\n",
            "Sonics             391\n",
            "Pelicans           375\n",
            "Bullets            105\n",
            "Tams (ABA)           4\n",
            "Braves               3\n",
            "Colonels (ABA)       3\n",
            "Zephyrs              3\n",
            "Spirits (ABA)        2\n",
            "Name: Team, dtype: int64\n"
          ]
        }
      ]
    },
    {
      "cell_type": "code",
      "source": [
        "top_injuries = nba['Notes'].value_counts().head(10)\n",
        "print(\"10 cedera paling umum:\")\n",
        "print(top_injuries)"
      ],
      "metadata": {
        "colab": {
          "base_uri": "https://localhost:8080/"
        },
        "id": "xXhoJfQtgrwO",
        "outputId": "95562053-2263-4081-9f98-e7147bd9deb1"
      },
      "execution_count": null,
      "outputs": [
        {
          "output_type": "stream",
          "name": "stdout",
          "text": [
            "10 cedera paling umum:\n",
            "activated from IL                                    17434\n",
            "placed on IL                                          6331\n",
            "placed on IL with sprained left ankle                  616\n",
            "placed on IL with sprained right ankle                 574\n",
            "placed on IL with NBA health and safety protocols      522\n",
            "placed on IL with illness                              502\n",
            "placed on IL with sore left knee                       291\n",
            "placed on IL with sore right knee                      272\n",
            "placed on IL with back spasms                          244\n",
            "placed on IL for rest                                  215\n",
            "Name: Notes, dtype: int64\n"
          ]
        }
      ]
    },
    {
      "cell_type": "code",
      "source": [
        "nba['Year'] = nba['Date'].dt.year\n",
        "yearly_injuries = nba.groupby('Date')['Id'].count()\n",
        "print(\"Jumlah pemain yang ditempatkan di IL per tahun:\")\n",
        "print(yearly_injuries)"
      ],
      "metadata": {
        "id": "sDNbkE9HhRJr",
        "colab": {
          "base_uri": "https://localhost:8080/"
        },
        "outputId": "9dd7f9d9-8c6e-4ff4-e9d5-d5cca7979bcd"
      },
      "execution_count": null,
      "outputs": [
        {
          "output_type": "stream",
          "name": "stdout",
          "text": [
            "Jumlah pemain yang ditempatkan di IL per tahun:\n",
            "Date\n",
            "1951-12-25     1\n",
            "1952-12-26     1\n",
            "1956-12-29     1\n",
            "1959-01-16     1\n",
            "1961-11-26     1\n",
            "              ..\n",
            "2023-04-09    13\n",
            "2023-04-11     6\n",
            "2023-04-12     2\n",
            "2023-04-15    16\n",
            "2023-04-16     8\n",
            "Name: Id, Length: 5219, dtype: int64\n"
          ]
        }
      ]
    }
  ]
}